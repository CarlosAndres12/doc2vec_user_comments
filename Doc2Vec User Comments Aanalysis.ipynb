{
 "cells": [
  {
   "cell_type": "code",
   "execution_count": 1,
   "metadata": {
    "collapsed": true
   },
   "outputs": [],
   "source": [
    "import gensim.models.doc2vec as d2v\n",
    "import os\n",
    "import pickle\n",
    "import nltk\n",
    "from pypet import progressbar\n",
    "import numpy as np\n",
    "import matplotlib.pyplot as plt\n",
    "%matplotlib inline"
   ]
  },
  {
   "cell_type": "markdown",
   "metadata": {},
   "source": [
    "# The Doc2Vec user comments analysis\n",
    "This is an example of one of the models I trained on online user comments and the corresponding results.\n",
    "Can we identify a publisher just by a comment made by a user?\n",
    "This analysis involves 3 steps:\n",
    "\n",
    "  1. Loading and data preparation\n",
    "  2. Training or loading a Doc2Vec model\n",
    "  3. Training a linear ML classifier\n",
    "  \n",
    "You can find my corresponding talk about this model [on YouTube](https://www.youtube.com/watch?v=zFScws0mb7M).\n",
    "\n",
    "# 1. Data Preparation\n",
    "\n",
    "Loads pickled user comment data from disk. Unfortunately, I cannot publish the data (yet), because I am missing the publishers' permissions."
   ]
  },
  {
   "cell_type": "code",
   "execution_count": 2,
   "metadata": {
    "scrolled": true
   },
   "outputs": [
    {
     "name": "stdout",
     "output_type": "stream",
     "text": [
      "zeit_db_2015_24.pckl\n",
      "zeit_db_2015_37.pckl\n",
      "zeit_db_2015_28.pckl\n",
      "zeit_db_2015_06.pckl\n",
      "zeit_db_2015_29.pckl\n",
      "zeit_db_2015_16.pckl\n",
      "zeit_db_2015_26.pckl\n",
      "zeit_db_2015_15.pckl\n",
      "zeit_db_2014_12.pckl\n",
      "zeit_db_2015_13.pckl\n",
      "zeit_db_2015_18.pckl\n",
      "zeit_db_2016_01.pckl\n",
      "zeit_db_2015_11.pckl\n",
      "zeit_db_2015_39.pckl\n",
      "zeit_db_2015_48.pckl\n",
      "zeit_db_2015_50.pckl\n",
      "zeit_db_2015_14.pckl\n",
      "zeit_db_2015_08.pckl\n",
      "zeit_db_2014_03.pckl\n",
      "zeit_db_2015_40.pckl\n",
      "zeit_db_2015_02.pckl\n",
      "zeit_db_2015_35.pckl\n",
      "zeit_db_2015_32.pckl\n",
      "zeit_db_2015_10.pckl\n",
      "zeit_db_2015_31.pckl\n",
      "zeit_db_2015_44.pckl\n",
      "zeit_db_2014_06.pckl\n",
      "zeit_db_2015_34.pckl\n",
      "zeit_db_2015_20.pckl\n",
      "zeit_db_2014_05.pckl\n",
      "zeit_db_2015_30.pckl\n",
      "zeit_db_2015_12.pckl\n",
      "zeit_db_2015_43.pckl\n",
      "zeit_db_2015_09.pckl\n",
      "zeit_db_2014_04.pckl\n",
      "zeit_db_2015_27.pckl\n",
      "zeit_db_2015_45.pckl\n",
      "zeit_db_2015_17.pckl\n",
      "zeit_db_2015_04.pckl\n",
      "zeit_db_2015_03.pckl\n",
      "zeit_db_2015_01.pckl\n",
      "zeit_db_2015_41.pckl\n",
      "zeit_db_2014_01.pckl\n",
      "zeit_db_2014_02.pckl\n",
      "zeit_db_2015_07.pckl\n",
      "zeit_db_2014_10.pckl\n",
      "zeit_db_2014_13.pckl\n",
      "zeit_db_2014_09.pckl\n",
      "zeit_db_2014_07.pckl\n",
      "zeit_db_2015_36.pckl\n",
      "zeit_db_2015_46.pckl\n",
      "zeit_db_2015_23.pckl\n",
      "zeit_db_2015_33.pckl\n",
      "zeit_db_2014_11.pckl\n",
      "zeit_db_2015_49.pckl\n",
      "zeit_db_2015_38.pckl\n",
      "zeit_db_2015_47.pckl\n",
      "zeit_db_2015_42.pckl\n",
      "zeit_db_2014_08.pckl\n",
      "zeit_db_2015_21.pckl\n",
      "zeit_db_2015_05.pckl\n",
      "zeit_db_2015_25.pckl\n",
      "zeit_db_2015_22.pckl\n",
      "zeit_db_2015_19.pckl\n",
      "spon_db_2015_07.pckl\n",
      "spon_db_2015_09.pckl\n",
      "spon_db_2015_02.pckl\n",
      "spon_db_2015_12.pckl\n",
      "spon_db_2014_01.pckl\n",
      "spon_db_2016_02.pckl\n",
      "spon_db_2014_02.pckl\n",
      "spon_db_2015_05.pckl\n",
      "spon_db_2014_03.pckl\n",
      "spon_db_2015_08.pckl\n",
      "spon_db_2015_01.pckl\n",
      "spon_db_2016_01.pckl\n",
      "spon_db_2014_05.pckl\n",
      "spon_db_2014_06.pckl\n",
      "spon_db_2015_03.pckl\n",
      "spon_db_2014_04.pckl\n",
      "spon_db_2015_04.pckl\n",
      "spon_db_2015_10.pckl\n",
      "spon_db_2015_11.pckl\n",
      "spon_db_2015_06.pckl\n",
      "fc_db_2014_00_januar.pckl\n",
      "fc_db_2014_08_september.pckl\n",
      "fc_db_2015_06_juli.pckl\n",
      "fc_db_2015_04_mai.pckl\n",
      "fc_db_2015_09_oktober.pckl\n",
      "fc_db_2016_03_april.pckl\n",
      "fc_db_2015_05_juni.pckl\n",
      "fc_db_2016_02_maerz.pckl\n",
      "fc_db_2016_04_mai.pckl\n",
      "fc_db_2015_11_dezember.pckl\n",
      "fc_db_2016_00_januar.pckl\n",
      "fc_db_2015_00_januar.pckl\n",
      "fc_db_2014_02_maerz.pckl\n",
      "fc_db_2015_08_september.pckl\n",
      "fc_db_2015_03_april.pckl\n",
      "fc_db_2016_01_februar.pckl\n",
      "fc_db_2014_11_dezember.pckl\n",
      "fc_db_2014_03_april.pckl\n",
      "fc_db_2014_10_november.pckl\n",
      "fc_db_2014_05_juni.pckl\n",
      "fc_db_2014_04_mai.pckl\n",
      "fc_db_2014_07_august.pckl\n",
      "fc_db_2014_09_oktober.pckl\n",
      "fc_db_2015_02_maerz.pckl\n",
      "fc_db_2014_06_juli.pckl\n",
      "fc_db_2015_10_november.pckl\n",
      "fc_db_2015_01_februar.pckl\n",
      "fc_db_2015_07_august.pckl\n",
      "fc_db_2014_01_februar.pckl\n"
     ]
    }
   ],
   "source": [
    "def load_files(folder):\n",
    "    \"\"\"Loads the pickled comments from disk. Unfortunately I cannot publish the \n",
    "    scraped data due to copyright problmes\"\"\"\n",
    "    res = []\n",
    "    for filename in os.listdir(folder):\n",
    "        print(filename)\n",
    "        if filename.endswith('.pckl'):\n",
    "            with open(os.path.join(folder, filename), 'rb') as fh:\n",
    "                res.append(pickle.load(fh))\n",
    "    return res\n",
    "\n",
    "\n",
    "zeit_lists = load_files('./zeit2/')\n",
    "spon_lists = load_files('./spon/')\n",
    "fc_lists = load_files('./fc2/')"
   ]
  },
  {
   "cell_type": "code",
   "execution_count": 3,
   "metadata": {},
   "outputs": [
    {
     "name": "stdout",
     "output_type": "stream",
     "text": [
      "11076 512750\n"
     ]
    }
   ],
   "source": [
    "def concate_dicts(*llist_):\n",
    "    \"\"\"Converts data into dictionaries with a publisher key label\"\"\"\n",
    "    articles = {}\n",
    "    comments = {}\n",
    "    for list_, key in llist_:\n",
    "        for db_articles, db_comments in list_:\n",
    "            for article in db_articles.values():\n",
    "                article['publisher'] = key\n",
    "            for comment in db_comments.values():\n",
    "                comment['publisher'] = key\n",
    "            articles.update(db_articles)\n",
    "            comments.update(db_comments)\n",
    "    return articles, comments\n",
    "\n",
    "\n",
    "articles, comments = concate_dicts((zeit_lists, 'zeit'), (spon_lists, 'spon'), (fc_lists, 'focus'))\n",
    "art_ids = list(articles.keys())\n",
    "com_ids = list(comments.keys())\n",
    "print(len(articles), len(comments))"
   ]
  },
  {
   "cell_type": "code",
   "execution_count": 4,
   "metadata": {},
   "outputs": [
    {
     "name": "stdout",
     "output_type": "stream",
     "text": [
      "[                    ]  0.0%\n",
      "[==                  ] 10.0%, remaining: 0:11:12\n",
      "[====                ] 20.0%, remaining: 0:09:44\n",
      "[======              ] 30.0%, remaining: 0:08:29\n",
      "[========            ] 40.0%, remaining: 0:07:15\n",
      "[==========          ] 50.0%, remaining: 0:06:02\n",
      "[============        ] 60.0%, remaining: 0:04:49\n",
      "[==============      ] 70.0%, remaining: 0:03:37\n",
      "[================    ] 80.0%, remaining: 0:02:24\n",
      "[==================  ] 90.0%, remaining: 0:01:12\n",
      "[====================]100.0%\n"
     ]
    }
   ],
   "source": [
    "def tokenize_body(comments):\n",
    "    \"\"\"Tokenizes the comments, tokens are lowercased\"\"\"\n",
    "    tokens = {}\n",
    "    for idx, com_id in enumerate(comments):\n",
    "        body = comments[com_id]['body']\n",
    "        tokenized = [x.lower() for x in nltk.word_tokenize(body, language='german')]\n",
    "        tokens[com_id] = tokenized\n",
    "        progressbar(idx, len(comments), reprint=False)\n",
    "    return tokens\n",
    "        \n",
    "    \n",
    "tokens = tokenize_body(comments)"
   ]
  },
  {
   "cell_type": "code",
   "execution_count": 5,
   "metadata": {},
   "outputs": [
    {
     "name": "stdout",
     "output_type": "stream",
     "text": [
      "[                    ]  0.0%\n",
      "[=                   ]  5.0%, remaining: 0:00:33\n",
      "[==                  ] 10.0%, remaining: 0:00:17\n",
      "[===                 ] 15.0%, remaining: 0:00:11\n",
      "[====                ] 20.0%, remaining: 0:00:14\n",
      "[=====               ] 25.0%, remaining: 0:00:11\n",
      "[======              ] 30.0%, remaining: 0:00:09\n",
      "[=======             ] 35.0%, remaining: 0:00:07\n",
      "[========            ] 40.0%, remaining: 0:00:08\n",
      "[=========           ] 45.0%, remaining: 0:00:07\n",
      "[==========          ] 50.0%, remaining: 0:00:05\n",
      "[===========         ] 55.0%, remaining: 0:00:04\n",
      "[============        ] 60.0%, remaining: 0:00:04\n",
      "[=============       ] 65.0%, remaining: 0:00:04\n",
      "[==============      ] 70.0%, remaining: 0:00:03\n",
      "[===============     ] 75.0%, remaining: 0:00:02\n",
      "[================    ] 80.0%, remaining: 0:00:02\n",
      "[=================   ] 85.0%, remaining: 0:00:01\n",
      "[==================  ] 90.0%, remaining: 0:00:00\n",
      "[=================== ] 95.0%, remaining: 0:00:00\n",
      "[====================]100.0%\n"
     ]
    }
   ],
   "source": [
    "def create_tagged_objects(tokens):\n",
    "    \"\"\"Converts tokens to gensim tagged documents\"\"\"\n",
    "    tagged_docs = {}\n",
    "    for idx, com_id in enumerate(tokens):\n",
    "        tagged_doc = d2v.TaggedDocument(words=tokens[com_id], tags=[com_id])\n",
    "        tagged_docs[com_id]= tagged_doc\n",
    "        progressbar(idx, len(comments), percentage_step=5, reprint=False)\n",
    "    return tagged_docs\n",
    "\n",
    "\n",
    "tagged_docs = create_tagged_objects(tokens)"
   ]
  },
  {
   "cell_type": "code",
   "execution_count": 6,
   "metadata": {},
   "outputs": [
    {
     "name": "stdout",
     "output_type": "stream",
     "text": [
      "[                    ]  0.0%\n",
      "[==                  ] 10.0%, remaining: 0:00:38\n",
      "[====                ] 20.0%, remaining: 0:00:34\n",
      "[======              ] 30.0%, remaining: 0:00:30\n",
      "[========            ] 40.0%, remaining: 0:00:26\n",
      "[==========          ] 50.0%, remaining: 0:00:22\n",
      "[============        ] 60.0%, remaining: 0:00:17\n",
      "[==============      ] 70.0%, remaining: 0:00:13\n",
      "[================    ] 80.0%, remaining: 0:00:08\n",
      "[==================  ] 90.0%, remaining: 0:00:04\n",
      "[====================]100.0%\n"
     ]
    }
   ],
   "source": [
    "def make_inverted_index(tagged_docs):\n",
    "    \"\"\"Creates and inverted index to quickly find comments containing particular words\"\"\"\n",
    "    inv_index = {}\n",
    "    for idx, com_id in enumerate(tagged_docs):\n",
    "        doc = tagged_docs[com_id]\n",
    "        words = doc.words\n",
    "        for word in words:\n",
    "            index_dict = inv_index.setdefault(word, {})\n",
    "            index_dict[com_id] = index_dict.get(com_id, 0) + 1\n",
    "        progressbar(idx, len(tagged_docs), reprint=False)\n",
    "    return inv_index\n",
    "\n",
    "\n",
    "inv_index = make_inverted_index(tagged_docs)"
   ]
  },
  {
   "cell_type": "code",
   "execution_count": 7,
   "metadata": {},
   "outputs": [
    {
     "data": {
      "text/plain": [
       "{'focus': 53539, 'spon': 287760, 'zeit': 171451}"
      ]
     },
     "execution_count": 7,
     "metadata": {},
     "output_type": "execute_result"
    }
   ],
   "source": [
    "from scipy.stats import chi2_contingency\n",
    "\n",
    "\n",
    "def get_aggregation(dicitionary, what='publisher'):\n",
    "    \"\"\"Aggregates summary counts of publishers\"\"\"\n",
    "    result_dict = {}\n",
    "    count=0\n",
    "    for com_id, item in dicitionary.items():\n",
    "        which = item[what]\n",
    "        result_dict[which] = result_dict.get(which, 0) + 1\n",
    "        #progressbar(count, len(dicitionary))\n",
    "        count += 1\n",
    "    return result_dict\n",
    "\n",
    "\n",
    "def get_word_count(word, index, comments, what='publisher'):\n",
    "    \"\"\"Computes a word count per publisher\"\"\"\n",
    "    count_dict = index[word]\n",
    "    result_count = {}\n",
    "    for com_id, count in count_dict.items():\n",
    "        which = comments[com_id][what]\n",
    "        result_count[which] = result_count.get(which, np.array([0, 0])) + np.array([count, 1])\n",
    "    return result_count\n",
    "\n",
    "\n",
    "def get_norm_count(word, index, comments, norm, what='publisher'):\n",
    "    \"\"\"Returns a normalized count of a word per publisher\n",
    "    \n",
    "    Runs a chi squared test on publisher vs publisher basis.\n",
    "    \"\"\"\n",
    "    tmp = get_word_count(word, index, comments, what)\n",
    "    result = {}\n",
    "    for what, counts in tmp.items():\n",
    "        result[what] = {'frac': counts[1] / float(norm[what]) * 100,\n",
    "                        'wordcount' : counts[0],\n",
    "                        'doccount' : counts[1],\n",
    "                        'total' : norm[what]}\n",
    "    \n",
    "    thekeys = list(result.keys())\n",
    "    tests = {}\n",
    "    for idx, what in enumerate(thekeys):\n",
    "        for jdx, what2 in enumerate(thekeys):\n",
    "            if jdx <= idx:\n",
    "                continue\n",
    "            values = [ [result[what]['doccount'], result[what]['total'] - result[what]['doccount']],\n",
    "                       [result[what2]['doccount'], result[what2]['total'] - result[what2]['doccount']]]\n",
    "            tests[what + ' vs ' + what2] = chi2_contingency(values)\n",
    "                \n",
    "            \n",
    "    return result, tests\n",
    "\n",
    "\n",
    "norm_dict = get_aggregation(comments)\n",
    "norm_dict"
   ]
  },
  {
   "cell_type": "code",
   "execution_count": 8,
   "metadata": {},
   "outputs": [
    {
     "data": {
      "text/plain": [
       "({'focus': {'doccount': 28,\n",
       "   'frac': 0.052298324585815945,\n",
       "   'total': 53539,\n",
       "   'wordcount': 29},\n",
       "  'spon': {'doccount': 103,\n",
       "   'frac': 0.035793716986377531,\n",
       "   'total': 287760,\n",
       "   'wordcount': 108},\n",
       "  'zeit': {'doccount': 91,\n",
       "   'frac': 0.053076389172416603,\n",
       "   'total': 171451,\n",
       "   'wordcount': 97}},\n",
       " {'spon vs focus': (2.7891102446565603,\n",
       "   0.09490691027264718,\n",
       "   1,\n",
       "   array([[  1.10450250e+02,   2.87649550e+05],\n",
       "          [  2.05497496e+01,   5.35184503e+04]])),\n",
       "  'spon vs zeit': (7.1955524142938811,\n",
       "   0.007308448905060101,\n",
       "   1,\n",
       "   array([[  1.21568168e+02,   2.87638432e+05],\n",
       "          [  7.24318320e+01,   1.71378568e+05]])),\n",
       "  'zeit vs focus': (0.0015452776489096641,\n",
       "   0.96864321822578847,\n",
       "   1,\n",
       "   array([[  9.06825592e+01,   1.71360317e+05],\n",
       "          [  2.83174408e+01,   5.35106826e+04]]))})"
      ]
     },
     "execution_count": 8,
     "metadata": {},
     "output_type": "execute_result"
    }
   ],
   "source": [
    "# How often is `einigkeit` found in user comments per publisher\n",
    "get_norm_count('einigkeit', inv_index, comments, norm_dict)"
   ]
  },
  {
   "cell_type": "markdown",
   "metadata": {},
   "source": [
    "# 2. Training or Loading the Doc2Vec model"
   ]
  },
  {
   "cell_type": "code",
   "execution_count": 9,
   "metadata": {
    "collapsed": true
   },
   "outputs": [],
   "source": [
    "# loads a model from disk, uncomment to train anew\n",
    "model = d2v.Doc2Vec.load('./zeit_spon_focus_380k_256dim_20epochs_5mincount_8window_5negative_1e4.net')"
   ]
  },
  {
   "cell_type": "code",
   "execution_count": 10,
   "metadata": {},
   "outputs": [
    {
     "name": "stdout",
     "output_type": "stream",
     "text": [
      "Using model training set!\n",
      "Trainig Size: {'zeit': 126988, 'spon': 217206, 'focus': 38279}\n",
      "Test Size:{'spon': 70554, 'zeit': 44463, 'focus': 15260}\n",
      "382473\n",
      "TaggedDocument(['meinen', 'sie', 'nicht', ',', '``', 'echte', 'helden', \"''\", 'wie', 'der', 'knippi', 'und', 'der', 'richie', 'hätten', 'das', 'auch', 'geschafft', ',', 'sei', 'es', 'als', 'vater', 'oder', 'als', 'sohn', '.', 'sie', 'können', 'eben', 'nicht', 'ausstehen', ',', 'dass', 'einer', 'hier', 'im', 'forum', 'nicht', 'in', 'der', 'gläsernen', 'und', 'gut', 'auswattierten', 'kugel', 'aufgewachsen', 'ist', '.'], ['postbit_8659565'])\n"
     ]
    }
   ],
   "source": [
    "import random\n",
    "\n",
    "\n",
    "def get_articles_by_publisher(articles):\n",
    "    \"\"\"Returns a nested dict with articles per publisher\"\"\"\n",
    "    articles_by_publisher = {}\n",
    "    for com_id, article in articles.items():\n",
    "        publisher = article['publisher']\n",
    "        publisher_dict = articles_by_publisher.setdefault(publisher, {})\n",
    "        publisher_dict[com_id] = article\n",
    "    return articles_by_publisher\n",
    "\n",
    "\n",
    "def train_test(comments, articles, test_frac = 0.25, model=None):\n",
    "    \"\"\"Creates a train test split.\n",
    "    \n",
    "    Takes care that comments from the same article are either in the train or test split.\n",
    "    This avoids data leakage from train to test.\n",
    "    \n",
    "    If model is given, recreates training and test set of the model.\n",
    "    \"\"\"\n",
    "    training = {}\n",
    "    testing = {}\n",
    "    \n",
    "    training_articles = set()\n",
    "    testing_articles = set()\n",
    "    \n",
    "    if model is not None:\n",
    "        print('Using model training set!')\n",
    "    \n",
    "    articles_by_publisher = get_articles_by_publisher(articles)\n",
    "    for publisher, publisher_articles in articles_by_publisher.items():\n",
    "        narticles = len(publisher_articles)\n",
    "        up_to = int(narticles*test_frac)\n",
    "        article_keys = list(publisher_articles.keys())\n",
    "        random.shuffle(article_keys)\n",
    "        testing_articles.update(article_keys[:up_to])\n",
    "        training_articles.update(article_keys[up_to:])\n",
    "    \n",
    "    for com_id, comment in comments.items():\n",
    "        title = comment['title']\n",
    "        if model is None:\n",
    "            if title in testing_articles:\n",
    "                testing[com_id] = comment\n",
    "            elif title in training_articles:\n",
    "                training[com_id] = comment\n",
    "            else:\n",
    "                print(title)\n",
    "                print(training_articles)\n",
    "                raise ValueError('You shall not pass!')\n",
    "        else:\n",
    "            if com_id in model.docvecs:\n",
    "                training[com_id] = comment\n",
    "            else:\n",
    "                testing[com_id] = comment\n",
    "    return training, testing\n",
    "\n",
    "\n",
    "def count_by_publisher(dictionary):\n",
    "    \"\"\"Counts comments per publisher\"\"\"\n",
    "    pub_count = {}\n",
    "    for comment in dictionary.values():\n",
    "        publisher = comment['publisher']\n",
    "        pub_count[publisher] = pub_count.setdefault(publisher, 0) + 1\n",
    "    return pub_count\n",
    "\n",
    "\n",
    "random.seed(42)\n",
    "training, testing = train_test(comments, articles, model=model)\n",
    "print('Trainig Size: ' + str(count_by_publisher(training)))\n",
    "print('Test Size:' + str(count_by_publisher(testing)))\n",
    "training_tagged_docs = [tagged_docs[com_id] for com_id in sorted(training.keys())]\n",
    "print(len(training_tagged_docs))\n",
    "print(training_tagged_docs[-3])"
   ]
  },
  {
   "cell_type": "code",
   "execution_count": 11,
   "metadata": {},
   "outputs": [
    {
     "name": "stdout",
     "output_type": "stream",
     "text": [
      "Using exisiting model\n"
     ]
    }
   ],
   "source": [
    "if model is None:\n",
    "    # Train the model if not loaded before\n",
    "    model = d2v.Doc2Vec(alpha=0.05, min_alpha=0.05, size=256, \n",
    "                        window=8, min_count=5, workers=13, sample=1e-4,\n",
    "                        negative=5)  # use fixed learning rate\n",
    "    print('Building vocab')\n",
    "    model.build_vocab(training_tagged_docs)\n",
    "    print('Vocab length: ' + str(len(model.vocab)))\n",
    "    epochs = 20\n",
    "    factor = 0.8\n",
    "    for epoch in range(epochs):\n",
    "        # train epoch by epoch\n",
    "        print('Training epoch %d' % epoch)\n",
    "        progressbar(epoch, epochs, 2, reprint=False)\n",
    "        random.shuffle(training_tagged_docs)\n",
    "        model.train(training_tagged_docs)\n",
    "        model.alpha *= factor  # decrease the learning rate\n",
    "        model.min_alpha = model.alpha  # fix the learning rate, no decay\n",
    "else:\n",
    "    print('Using exisiting model')"
   ]
  },
  {
   "cell_type": "code",
   "execution_count": 12,
   "metadata": {},
   "outputs": [
    {
     "data": {
      "text/plain": [
       "115450"
      ]
     },
     "execution_count": 12,
     "metadata": {},
     "output_type": "execute_result"
    }
   ],
   "source": [
    "len(model.vocab)"
   ]
  },
  {
   "cell_type": "code",
   "execution_count": 13,
   "metadata": {},
   "outputs": [
    {
     "data": {
      "text/plain": [
       "256"
      ]
     },
     "execution_count": 13,
     "metadata": {},
     "output_type": "execute_result"
    }
   ],
   "source": [
    "# Uncomment to store newly trained model\n",
    "#model.save('./zeit_spon_focus_380k_256dim_20epochs_5mincount_8window_5negative_1e4.net')\n",
    "model.vector_size"
   ]
  },
  {
   "cell_type": "markdown",
   "metadata": {},
   "source": [
    "## Analysis of Doc2Vec results\n",
    "\n",
    "Let us check some similarities and arithmetic."
   ]
  },
  {
   "cell_type": "code",
   "execution_count": 14,
   "metadata": {},
   "outputs": [
    {
     "data": {
      "text/plain": [
       "[('gutmensch', 0.4010172486305237),\n",
       " ('neiddebatte', 0.38453322649002075),\n",
       " ('putin-versteher', 0.3686279058456421),\n",
       " ('satire', 0.36785396933555603),\n",
       " ('lüge', 0.36566394567489624),\n",
       " ('weltmacht', 0.3519711196422577),\n",
       " ('gutmenschen', 0.3464166820049286),\n",
       " ('mutti', 0.34194207191467285),\n",
       " ('überschrift', 0.34042584896087646),\n",
       " ('verschwörungstheorie', 0.33931589126586914)]"
      ]
     },
     "execution_count": 14,
     "metadata": {},
     "output_type": "execute_result"
    }
   ],
   "source": [
    "model.most_similar(['lügenpresse'])"
   ]
  },
  {
   "cell_type": "code",
   "execution_count": 15,
   "metadata": {},
   "outputs": [
    {
     "data": {
      "text/plain": [
       "[('cdu', 0.40688908100128174),\n",
       " ('cdu/csu', 0.3952762484550476),\n",
       " ('christen', 0.376493901014328),\n",
       " ('csu', 0.3707805275917053),\n",
       " ('grünen', 0.3656056225299835),\n",
       " ('nato', 0.35830050706863403),\n",
       " ('pkk', 0.35469287633895874),\n",
       " ('nsdap', 0.34872081875801086),\n",
       " ('fifa', 0.34840717911720276),\n",
       " ('presse', 0.3452194035053253)]"
      ]
     },
     "execution_count": 15,
     "metadata": {},
     "output_type": "execute_result"
    }
   ],
   "source": [
    "model.most_similar(['npd'])"
   ]
  },
  {
   "cell_type": "code",
   "execution_count": 16,
   "metadata": {},
   "outputs": [
    {
     "data": {
      "text/plain": [
       "[('erdogan', 0.5759029388427734),\n",
       " ('schäuble', 0.5241702795028687),\n",
       " ('gauck', 0.5103901028633118),\n",
       " ('seehofer', 0.5060887932777405),\n",
       " ('obama', 0.5047944784164429),\n",
       " ('draghi', 0.49869856238365173),\n",
       " ('wulff', 0.49585679173469543),\n",
       " ('sarrazin', 0.4903891086578369),\n",
       " ('assad', 0.4888860583305359),\n",
       " ('tsipras', 0.48171353340148926)]"
      ]
     },
     "execution_count": 16,
     "metadata": {},
     "output_type": "execute_result"
    }
   ],
   "source": [
    "model.most_similar(['hitler', 'putin'])"
   ]
  },
  {
   "cell_type": "code",
   "execution_count": 17,
   "metadata": {},
   "outputs": [
    {
     "data": {
      "text/plain": [
       "[('schuldenschnitt', 0.368825763463974),\n",
       " ('crash', 0.3611461818218231),\n",
       " ('streik', 0.3528655767440796),\n",
       " ('grexit', 0.3483351767063141),\n",
       " ('blutvergießen', 0.33942756056785583),\n",
       " ('widerspruch', 0.33040809631347656),\n",
       " ('bvb', 0.3299483358860016),\n",
       " ('esc', 0.327178955078125),\n",
       " ('wolf', 0.3265976309776306),\n",
       " ('hsv', 0.32614874839782715)]"
      ]
     },
     "execution_count": 17,
     "metadata": {},
     "output_type": "execute_result"
    }
   ],
   "source": [
    "model.most_similar(['brexit', 'griechenland'], ['england'])"
   ]
  },
  {
   "cell_type": "code",
   "execution_count": 18,
   "metadata": {},
   "outputs": [
    {
     "data": {
      "text/plain": [
       "[('fahrzeug', 0.7256940603256226),\n",
       " ('kind', 0.6843705773353577),\n",
       " ('land', 0.6809075474739075),\n",
       " ('smartphone', 0.6666008830070496),\n",
       " ('haus', 0.6659786701202393),\n",
       " ('handy', 0.6579813957214355),\n",
       " ('studium', 0.6391932964324951),\n",
       " ('produkt', 0.6350514888763428),\n",
       " ('programm', 0.6342238783836365),\n",
       " ('geschäft', 0.6303771734237671)]"
      ]
     },
     "execution_count": 18,
     "metadata": {},
     "output_type": "execute_result"
    }
   ],
   "source": [
    "model.most_similar(['auto'])     "
   ]
  },
  {
   "cell_type": "code",
   "execution_count": 19,
   "metadata": {},
   "outputs": [
    {
     "data": {
      "text/plain": [
       "[('fr.', 0.608452320098877),\n",
       " ('angela', 0.5996636152267456),\n",
       " ('mama', 0.44601213932037354),\n",
       " ('hollande', 0.4266117215156555),\n",
       " ('thomas', 0.38444945216178894),\n",
       " ('heiße', 0.38386327028274536),\n",
       " ('wilhelm', 0.38384321331977844),\n",
       " ('heisse', 0.37442219257354736),\n",
       " ('andrea', 0.3742326498031616),\n",
       " ('gabriel', 0.3742227852344513)]"
      ]
     },
     "execution_count": 19,
     "metadata": {},
     "output_type": "execute_result"
    }
   ],
   "source": [
    "model.most_similar(['könig', 'frau'], ['mann'])"
   ]
  },
  {
   "cell_type": "markdown",
   "metadata": {},
   "source": [
    "# 3. Linear Machine Learning Classifier\n",
    "\n",
    "Let's see if we can predict the publisher based on a user comment."
   ]
  },
  {
   "cell_type": "code",
   "execution_count": 20,
   "metadata": {
    "collapsed": true
   },
   "outputs": [],
   "source": [
    "import numpy as np\n",
    "from scipy import linalg as la\n",
    "\n",
    "\n",
    "def pca(data, dims_rescaled_data=2, evecs=None):\n",
    "    \"\"\" Performs a principal component analysis \"\"\"\n",
    "    m, n = data.shape\n",
    "    data = data.copy()\n",
    "    data -= data.mean(axis=0)\n",
    "    evals = None\n",
    "    if evecs is None:\n",
    "        R = np.cov(data, rowvar=False)\n",
    "        evals, evecs = la.eigh(R)\n",
    "        idx = np.argsort(evals)[::-1]\n",
    "        evecs = evecs[:,idx]\n",
    "        evals = evals[idx]\n",
    "        evecs = evecs[:, :dims_rescaled_data]\n",
    "    return np.dot(evecs.T, data.T).T, evals, evecs"
   ]
  },
  {
   "cell_type": "code",
   "execution_count": 21,
   "metadata": {},
   "outputs": [
    {
     "name": "stdout",
     "output_type": "stream",
     "text": [
      "[                    ]  0.0%\n",
      "[==                  ] 10.0%, remaining: 0:00:05\n",
      "[====                ] 20.0%, remaining: 0:00:04\n",
      "[======              ] 30.0%, remaining: 0:00:03\n",
      "[========            ] 40.0%, remaining: 0:00:03\n",
      "[==========          ] 50.0%, remaining: 0:00:02\n",
      "[============        ] 60.0%, remaining: 0:00:02\n",
      "[==============      ] 70.0%, remaining: 0:00:01\n",
      "[================    ] 80.0%, remaining: 0:00:01\n",
      "[==================  ] 90.0%, remaining: 0:00:00\n",
      "[====================]100.0%\n",
      "[                    ]  0.0%\n",
      "[==                  ] 10.0%, remaining: 0:05:06\n",
      "[====                ] 20.0%, remaining: 0:04:31\n",
      "[======              ] 30.0%, remaining: 0:03:42\n",
      "[========            ] 40.0%, remaining: 0:03:07\n",
      "[==========          ] 50.0%, remaining: 0:02:37\n",
      "[============        ] 60.0%, remaining: 0:02:07\n",
      "[==============      ] 70.0%, remaining: 0:01:36\n",
      "[================    ] 80.0%, remaining: 0:01:04\n",
      "[==================  ] 90.0%, remaining: 0:00:32\n",
      "[====================]100.0%\n"
     ]
    }
   ],
   "source": [
    "import pandas as pd\n",
    "\n",
    "\n",
    "def get_doc_vecs(com_ids, model):\n",
    "    \"\"\" Returns the doc2vecs as array. \n",
    "    \n",
    "    In case of training data, the vector is taken from the model's docvecs.\n",
    "    Test document vectors are inferred using gradient descent.\n",
    "    \"\"\"\n",
    "    dim = model.vector_size\n",
    "    inputs = np.zeros((len(com_ids), dim))\n",
    "    for kdx, com_id in enumerate(com_ids):\n",
    "        try:\n",
    "            inputs[kdx, :] = model.docvecs[com_id]\n",
    "        except KeyError:\n",
    "            # infer the test vector\n",
    "            inputs[kdx, :] = model.infer_vector(tagged_docs[com_id].words, steps=8)\n",
    "        progressbar(kdx, len(com_ids), reprint=False)\n",
    "    return inputs\n",
    "\n",
    "\n",
    "def comments_to_frame(comments, model):\n",
    "    \"\"\"Turns user comments into pandas data frame\"\"\"\n",
    "    com_ids = np.array(sorted(comments.keys()))\n",
    "    com_range = np.arange(len(com_ids))\n",
    "    multi_index = pd.MultiIndex.from_arrays([com_ids, com_range])\n",
    "    columns = list(range(model.vector_size)) + ['publisher', 'rating', 'article_id', 'author']\n",
    "    data = {}\n",
    "    docvecs = get_doc_vecs(com_ids, model)\n",
    "    for col in columns:\n",
    "        if isinstance(col, int):\n",
    "            data[col] = docvecs[:, col]\n",
    "        else:\n",
    "            data[col] = []\n",
    "    for com_id in com_ids:\n",
    "        comment = comments[com_id]\n",
    "        data['publisher'].append(comment['publisher'])\n",
    "        data['rating'].append(comment.get('recommendations', np.NaN))\n",
    "        data['article_id'].append(comment['title'].__hash__())\n",
    "        data['author'].append(comment['author'])\n",
    "    data_frame = pd.DataFrame(columns=columns, index=multi_index, data=data)\n",
    "    return data_frame\n",
    "\n",
    "training_frame = comments_to_frame(training, model)\n",
    "testing_frame = comments_to_frame(testing, model)"
   ]
  },
  {
   "cell_type": "code",
   "execution_count": 22,
   "metadata": {
    "collapsed": true
   },
   "outputs": [],
   "source": [
    "pcadata, _, evecs = pca(training_frame[list(range(256))])\n",
    "tepcadata, _, _ = pca(testing_frame[list(range(256))], evecs=evecs)"
   ]
  },
  {
   "cell_type": "code",
   "execution_count": 23,
   "metadata": {},
   "outputs": [
    {
     "data": {
      "text/plain": [
       "(130277, 2)"
      ]
     },
     "execution_count": 23,
     "metadata": {},
     "output_type": "execute_result"
    }
   ],
   "source": [
    "tepcadata.shape"
   ]
  },
  {
   "cell_type": "markdown",
   "metadata": {},
   "source": [
    "### How difficult is the problem?\n",
    "\n",
    "Can we identify well-separated classes via a PCA?\n",
    "\n",
    "Nope, it's most likely a hard taks!"
   ]
  },
  {
   "cell_type": "code",
   "execution_count": 24,
   "metadata": {},
   "outputs": [
    {
     "data": {
      "image/png": "[encoded data removed]",
      "text/plain": [
       "<matplotlib.figure.Figure at 0x7f21b0944e80>"
      ]
     },
     "metadata": {},
     "output_type": "display_data"
    }
   ],
   "source": [
    "iszeit = (training_frame['publisher']=='zeit').values\n",
    "isspon = (training_frame['publisher']=='spon').values\n",
    "isfocus = (training_frame['publisher']=='focus').values\n",
    "\n",
    "teiszeit = (testing_frame['publisher']=='zeit').values\n",
    "teisspon = (testing_frame['publisher']=='spon').values\n",
    "teisfocus = (testing_frame['publisher']=='focus').values\n",
    "\n",
    "ssize = 5500  # Number of points to plot\n",
    "plt.figure(figsize=(5,5))\n",
    "plt.scatter(pcadata[isspon,0][:ssize],pcadata[isspon,1][:ssize], alpha=0.1, s=5, color='red', label='SPON')\n",
    "plt.scatter(pcadata[iszeit,0][:ssize],pcadata[iszeit,1][:ssize], alpha=0.1, s=5, label='ZEIT')\n",
    "plt.scatter(pcadata[isfocus,0][:ssize],pcadata[isfocus,1][:ssize], alpha=0.1, s=5, color='yellow', label='Focus')\n",
    "plt.xlabel('PCA Dimension 1')\n",
    "plt.ylabel('PCA Dimension 2')\n",
    "plt.legend()\n",
    "plt.grid()"
   ]
  },
  {
   "cell_type": "code",
   "execution_count": 44,
   "metadata": {
    "collapsed": true
   },
   "outputs": [],
   "source": [
    "def stratify_frame(data_frame, class_label='publisher', seed=42):\n",
    "    \"\"\"Returns stratified data frame with equal amount of comments per publisher\"\"\"\n",
    "    all_classes = {}\n",
    "    class_col = data_frame[class_label]\n",
    "    for class_ in class_col:\n",
    "        all_classes[class_] = all_classes.get(class_, 0) + 1\n",
    "    min_val = float('inf')\n",
    "    for class_, count in all_classes.items():\n",
    "        if count < min_val:\n",
    "            min_class = class_\n",
    "            min_val = count\n",
    "    \n",
    "    frames = []\n",
    "    for class_ in all_classes:\n",
    "        new_frame = data_frame.loc[data_frame[class_label] == class_]\n",
    "        if class_ != min_class:\n",
    "            new_frame = new_frame.sample(n=min_val)\n",
    "        frames.append(new_frame)\n",
    "    return pd.concat(frames)\n",
    "\n",
    "sf_training = stratify_frame(training_frame)\n",
    "sf_testing = stratify_frame(testing_frame)"
   ]
  },
  {
   "cell_type": "code",
   "execution_count": 72,
   "metadata": {
    "collapsed": true
   },
   "outputs": [],
   "source": [
    "from sklearn.metrics import confusion_matrix\n",
    "\n",
    "def plot_confusion_matrix(cm, labels, title='Confusion matrix', cmap=plt.cm.Blues):\n",
    "    \"\"\"Plots the confusion matrix\"\"\"\n",
    "    plt.imshow(cm, interpolation='nearest', cmap=cmap)\n",
    "    plt.title(title)\n",
    "    plt.colorbar()\n",
    "    tick_marks = np.arange(len(labels))\n",
    "    plt.xticks(tick_marks, labels, rotation=45, fontsize=14)\n",
    "    plt.yticks(tick_marks, labels, fontsize=14)\n",
    "    plt.tight_layout()\n",
    "    plt.ylabel('True label',fontsize=15)\n",
    "    plt.xlabel('Predicted label', fontsize=15)\n",
    "    plt.grid(True)"
   ]
  },
  {
   "cell_type": "code",
   "execution_count": 76,
   "metadata": {},
   "outputs": [
    {
     "data": {
      "text/plain": [
       "SGDClassifier(alpha=0.02, average=False, class_weight=None, epsilon=0.1,\n",
       "       eta0=0.0, fit_intercept=True, l1_ratio=0.15,\n",
       "       learning_rate='optimal', loss='log', n_iter=5, n_jobs=3,\n",
       "       penalty='elasticnet', power_t=0.5, random_state=None, shuffle=True,\n",
       "       verbose=0, warm_start=False)"
      ]
     },
     "execution_count": 76,
     "metadata": {},
     "output_type": "execute_result"
    }
   ],
   "source": [
    "# let us train a linear classifier\n",
    "from sklearn.linear_model import SGDClassifier\n",
    "\n",
    "sX = sf_training[list(range(model.vector_size))].values\n",
    "sy = sf_training['publisher'].values\n",
    "\n",
    "sclf = SGDClassifier(penalty='elasticnet', loss='log', alpha=0.02, n_jobs=3)\n",
    "sclf.fit(sX,sy)"
   ]
  },
  {
   "cell_type": "markdown",
   "metadata": {},
   "source": [
    "### How is the classifier's perfomance?\n",
    "\n",
    "Kinda ok, but as said, it is a very hard task indeed!"
   ]
  },
  {
   "cell_type": "code",
   "execution_count": 77,
   "metadata": {},
   "outputs": [
    {
     "name": "stdout",
     "output_type": "stream",
     "text": [
      "Training Score:0.559593162482\n",
      "Testing Score: 0.470969855832\n",
      "[[25885  6237  6157]\n",
      " [11430 14897 11952]\n",
      " [ 7532  7267 23480]]\n",
      "[[ 4385  3639  7236]\n",
      " [ 1361  5077  8822]\n",
      " [  751  2410 12099]]\n"
     ]
    },
    {
     "data": {
      "image/png": "[encoded data removed]",
      "text/plain": [
       "<matplotlib.figure.Figure at 0x7f21aff3de80>"
      ]
     },
     "metadata": {},
     "output_type": "display_data"
    },
    {
     "data": {
      "image/png": "[encoded data removed]",
      "text/plain": [
       "<matplotlib.figure.Figure at 0x7f21aff3dbe0>"
      ]
     },
     "metadata": {},
     "output_type": "display_data"
    }
   ],
   "source": [
    "print('Training Score:' + str(sclf.score(sX, sy)))\n",
    "tesX = sf_testing[list(range(model.vector_size))].values\n",
    "tesy = sf_testing['publisher'].values\n",
    "print('Testing Score: ' + str(sclf.score(tesX, tesy)))\n",
    "\n",
    "labels = sclf.classes_\n",
    "scm = confusion_matrix(sy, sclf.predict(sX), labels=labels)\n",
    "stecm = confusion_matrix(tesy, sclf.predict(tesX), labels=labels)\n",
    "\n",
    "print(scm)\n",
    "print(stecm)\n",
    "\n",
    "plot_confusion_matrix(scm, labels)\n",
    "plt.figure()\n",
    "plot_confusion_matrix(stecm, labels)"
   ]
  },
  {
   "cell_type": "markdown",
   "metadata": {},
   "source": [
    "### Let us find the prototypical comments per publisher\n",
    "\n",
    "These are just the comments in the training set that have the highest classification value of the classifier's decision function."
   ]
  },
  {
   "cell_type": "code",
   "execution_count": 78,
   "metadata": {
    "collapsed": true
   },
   "outputs": [],
   "source": [
    "def print_com_ids(com_ids, comments, howmany=10, maxletter=256):\n",
    "    \"\"\"Prints an the first 256 characters of comment with a given `com_id`\"\"\"\n",
    "    for irun in range(min(len(com_ids), howmany)):\n",
    "        text = comments[com_ids[irun]]['body']\n",
    "        if len(text) > maxletter:\n",
    "            text = text[:maxletter] + '...'\n",
    "        publisher = comments[com_ids[irun]]['publisher']\n",
    "        rating = comments[com_ids[irun]].get('recommendations', 'N/A')\n",
    "        print('\\n---Comment %s from %s (rating %s) ---' % (com_ids[irun], publisher, str(rating)))\n",
    "        print(text)\n",
    "\n",
    "\n",
    "def find_k_best(clf_, frame, k=10, dims=256):\n",
    "    \"\"\"Find the k best matching comments per publisher\"\"\"\n",
    "    com_ids = {}\n",
    "    res_vals = {}\n",
    "    classes = clf_.classes_\n",
    "    data = frame[list(range(dims))].values\n",
    "    try:\n",
    "        index = frame.index.values\n",
    "    except ValueError:\n",
    "        index = []\n",
    "        for irun in range(len(frame.index)):\n",
    "            index.append(frame.index[irun])\n",
    "    decisions = clf_.decision_function(data)\n",
    "    for kdx, cls_ in enumerate(classes):\n",
    "        decargs = np.argsort(decisions, 0)\n",
    "        com_ids[cls_] = []\n",
    "        res_vals[cls_] = []\n",
    "        for krun in range(1, k+1):\n",
    "            com_ids[cls_].append(index[decargs[-krun, kdx]][0])\n",
    "            res_vals[cls_].append(decisions[decargs[-krun, kdx], :])\n",
    "    return com_ids, res_vals\n",
    "        \n",
    "              \n",
    "                      "
   ]
  },
  {
   "cell_type": "code",
   "execution_count": 79,
   "metadata": {
    "collapsed": true
   },
   "outputs": [],
   "source": [
    "best_com_ids, best_vals = find_k_best(sclf, sf_training)  "
   ]
  },
  {
   "cell_type": "code",
   "execution_count": 80,
   "metadata": {},
   "outputs": [
    {
     "data": {
      "text/plain": [
       "{'focus': [array([ 0.67389282, -1.08930134, -1.30532411]),\n",
       "  array([ 0.60979804, -0.97743507, -1.42604646]),\n",
       "  array([ 0.53476268, -0.87085655, -1.22574588]),\n",
       "  array([ 0.52759919, -0.99859831, -1.40937997]),\n",
       "  array([ 0.52452468, -0.98092128, -1.15726704]),\n",
       "  array([ 0.52356263, -0.90116416, -1.16999484]),\n",
       "  array([ 0.52332239, -0.74398807, -1.40042701]),\n",
       "  array([ 0.51160552, -0.89347114, -1.36981899]),\n",
       "  array([ 0.50231504, -1.00847828, -1.12460275]),\n",
       "  array([ 0.49809499, -0.92102766, -1.48242233])],\n",
       " 'spon': [array([-1.5854564 , -0.02066652, -0.84890705]),\n",
       "  array([-1.77652333, -0.05372939, -0.29132722]),\n",
       "  array([-1.43188253, -0.06461331, -0.59356859]),\n",
       "  array([-1.60069071, -0.08734061, -0.61239377]),\n",
       "  array([-1.70918532, -0.13577106, -0.64204759]),\n",
       "  array([-1.14915121, -0.1404845 , -0.70185351]),\n",
       "  array([-1.05967491, -0.14374507, -1.05337679]),\n",
       "  array([-1.10413472, -0.14544156, -0.92992469]),\n",
       "  array([-1.92057455, -0.15403672, -0.51766651]),\n",
       "  array([-1.47445796, -0.15980942, -0.67924934])],\n",
       " 'zeit': [array([-1.55690169, -0.81439778,  0.34702901]),\n",
       "  array([-1.36119831, -0.65090915,  0.32115221]),\n",
       "  array([-1.5056553 , -0.79518745,  0.31685962]),\n",
       "  array([-1.62813781, -0.71461646,  0.31294308]),\n",
       "  array([-1.10307916, -0.94694677,  0.3069764 ]),\n",
       "  array([-1.67588633, -0.67577855,  0.29941734]),\n",
       "  array([-1.88590007, -0.62042665,  0.28616327]),\n",
       "  array([-1.95124058, -0.61810203,  0.28292154]),\n",
       "  array([-1.51936261, -0.58953617,  0.27012324]),\n",
       "  array([-1.69477521, -0.59797386,  0.26075259])]}"
      ]
     },
     "execution_count": 80,
     "metadata": {},
     "output_type": "execute_result"
    }
   ],
   "source": [
    "# the best classification values are\n",
    "best_vals"
   ]
  },
  {
   "cell_type": "code",
   "execution_count": 81,
   "metadata": {},
   "outputs": [
    {
     "data": {
      "text/plain": [
       "{'focus': ['fc2384515747806803659',\n",
       "  'fc-1488586985286617515',\n",
       "  'fc6092971155995554073',\n",
       "  'fc-6144842118117141000',\n",
       "  'fc4779063311921099534',\n",
       "  'fc-7020430312312956685',\n",
       "  'postbit_27606958',\n",
       "  'fc2537256418333258209',\n",
       "  'fc-6907199175778523397',\n",
       "  'fc-924506867720597566'],\n",
       " 'spon': ['cid-4499545',\n",
       "  'postbit_39491726',\n",
       "  'postbit_40574192',\n",
       "  'cid-5160001',\n",
       "  'cid-4522325',\n",
       "  'postbit_38624762',\n",
       "  'postbit_33094580',\n",
       "  'postbit_36027972',\n",
       "  'postbit_15471345',\n",
       "  'postbit_14862828'],\n",
       " 'zeit': ['cid-4520538',\n",
       "  'cid-5776689',\n",
       "  'cid-5082365',\n",
       "  'cid-4735762',\n",
       "  'postbit_36896350',\n",
       "  'cid-4753139',\n",
       "  'cid-5089255',\n",
       "  'cid-5712301',\n",
       "  'cid-4804366',\n",
       "  'cid-4546414']}"
      ]
     },
     "execution_count": 81,
     "metadata": {},
     "output_type": "execute_result"
    }
   ],
   "source": [
    "# the best comment ids\n",
    "best_com_ids"
   ]
  },
  {
   "cell_type": "code",
   "execution_count": 82,
   "metadata": {
    "scrolled": false
   },
   "outputs": [
    {
     "name": "stdout",
     "output_type": "stream",
     "text": [
      "\n",
      "\n",
      "BEST FOR spon\n",
      "\n",
      "---Comment cid-4499545 from zeit (rating 0) ---\n",
      "Privatwirtschaftlich ungünstig\n",
      "Das gesparte Geld landet dann aber nicht beim Hersteller des alten Toasters, weswegen dieser eben doch die Sollbruchstelle dort setzt, wo selbst der Fachmann nur mit der Flex hinkommt.\n",
      "Reparatur ist für den Hersteller, der auf Wachstum setzt IMMER ungünstig, selbst wenn sie volkwirtschaftlich günstig ist. Wie auf dem Elektronikmarkt zu sehen ist es jedoch erfolgreicher kurzlebige Produkte herzustellen, die beim Austausch nach Defekt gleich den technischen Fortschritt mitmachen können. Technisch wäre es durchaus möglich Elektrogeräte oder sogar Autos modular zu ge...\n",
      "\n",
      "---Comment postbit_39491726 from spon (rating N/A) ---\n",
      "Ich meine mich zu erinnern, dass es im A6 BiTDI von ZF stammt.\n",
      "Steht so auch hier:\n",
      "http://www.motor-talk.de/blogs/autos-technik/datenblaetter-getriebeuebersetzungen-getriebe-allgemein-usw-t3089864.html\n",
      "\n",
      "Zitat:\n",
      "8-Gang ZF Tiptronic (8HP)\n",
      "Überbrückungskupplung und 8 Fahrstufen. Bald nach dem Anfahren blockiert eine elektronisch regulierte Kupplung den Schlupf im Wandler, Motor und Getriebe sind dann wie bei einem Handschalter fest miteinander verbunden. Das fühlt sich nicht nur sportlich direkt an, sondern reduziert auch den Verbrauch. Im Schiebebetrieb wirkt die Motorbremse wie beim Herunterscha...\n",
      "\n",
      "---Comment postbit_40574192 from spon (rating N/A) ---\n",
      "Wie man mit Navis leicht kontrollieren kann entsprechen \"120 km/h Tacho\" etwa 115 km/h real.\n",
      "Lkws dürfen real 80 km/h fahren, im Schnitt sind es wohl 85 km/h. Die Differenz beim Überholen wäre also 30 km/h, wenn man allerdings erst z.B. nach 1-2 km hinter dem Lkw überholen kann, dann ist die Differenz zunächst mal deutlich geringer. Dann ist das Auto genauso nur 85 km/h schnell.\n",
      "Ich habe 1980 in der Fahrschule gelernt, dass die Differenz beim Überholen mind. 20 km/h betragen soll, dies allerdings u.U. nicht auf der ganzen Überholstrecke eingehalten werden kann, siehe oben.\n",
      "Sie schreiben jetzt,...\n",
      "\n",
      "---Comment cid-5160001 from zeit (rating 0) ---\n",
      "optional\n",
      ">>Auf der anderen: Larry Fink, ebenfalls schwerreich und Chef von BlackRock, dem weltgrößten Vermögensverwalter. >>\n",
      "Mit der Aussage könnte der Eric Wintemute von der Vanguard Group unzufrieden sein. Wenn man nur die HQ's anschaut, dann verwaltet BlackRock tatsächlich mehr Vermögen als Vanguard, aber sobald man die ganzen unzähligen Tochtergesellschaften dazuzählt, wie Vanguard Total Stock Market Index Fund, Vanguard 500 Index Fund vs. BlackRock Fund Advisors usw., dann ist der BlackRock sicherlich kein Spitzenreiter mehr.\n",
      "\n",
      "---Comment cid-4522325 from zeit (rating 2) ---\n",
      "\"Sofort\" ist eher nicht möglich\n",
      ">>Bei steigenden Preisen sind Plattformen und Fracking sofort wieder am Start.<<\n",
      "Ähmmm...nein. Sind sie nicht.\n",
      "Denn wenn man 100$ pro Barrel braucht, um auch nur halbwegs brauchbar wirtschaftlich zu sein, dann genügt es nicht, wenn der Preis von 50 auf 60 Mäuse steigt. Sie machen dann weniger Verlust als vorher, aber das ändert nichts an den untragbar werdenden Verlusten.\n",
      "Diese Dinger sind ja kein Lichtschalter, den man auf An oder Aus schaltet. Das Zeug kostet Geld, auch wenn es in der Gegend rumsteht und nichts in die Kasse bringt. Also werden Rigs eingemottet...\n",
      "\n",
      "---Comment postbit_38624762 from spon (rating N/A) ---\n",
      "ja, die nächste Stufe...wie er aus einem Club der grade mal 3 Titel in einer Saison holte, durch den Einsatz von ~200 Mio Euro\n",
      "(mit dem u.a. der Hauptgegner geschwächt wurde) einen Club produzierte der die Deutsche Meisterschaft gewinnen konnte (immerhin in einer Liga mit so Hammertruppen wie Hannover und Schalke 04) !\n",
      "Nur noch die Formel 1 Siege der Mercedesfahrer waren sportlich von höherem Wert, und die Korruption in FIFA und UEFA von einem größeren Überraschungspotential !\n",
      "\n",
      "---Comment postbit_33094580 from spon (rating N/A) ---\n",
      "nun schlechter dastehen oder nicht, der Schaden dürfte für die französische Industrie immens sein:\n",
      "1. Man erzielt keinen Gewinn, sondern muss rund 1,2 Milliarden zurückzahlen;\n",
      "2. Man muss die Schiffe auf eigene Kosten weitgehend zurückbauen;\n",
      "3. Man hat zwei Schiffe am Hals, die schwer zu verkaufen sein dürfte: die meisten Marinen der Welt haben keinen Bedarf oder kein Konzept für den Einsatz dieser Schiffe, und der Rest dürfte mit den russischen Spezifikationen und Normwn zu kämpfen haben;\n",
      "4. Russische Folgeaufträge kann man sich abschminken, nicht nur für diese Schiffe, auch dürften die Russe...\n",
      "\n",
      "---Comment postbit_36027972 from spon (rating N/A) ---\n",
      "Jahrhunderte war Wasser kostenlos. Jeder hatte genug Trinkwasser und Wasser um seine Felder zu bewässern. Zunehmende Bevölkerung führt aber dazu, das (nutzbares) Wasser knapper wird. Die Einen entnehmen mehr Wasser, als ihnen zusteht, die Anderen leiten ihre Abwässer in den Fluss mit der Folge, dass stromab das Trinkwasser knapp wird.\n",
      "Also muss der Staat (falls vorhanden) die Regeln der Wasserverteilung bestimmen. Dann kann er es entweder an Alle kostenlos abgeben (das funktioniert hervorragend, weil jeder nur das nimmt, was er wirklich braucht) oder er nimmt dafür Geld. Das wiederum kann er s...\n",
      "\n",
      "---Comment postbit_15471345 from spon (rating N/A) ---\n",
      "Hier noch einmal Einzelheiten zur \n",
      "'SEWOL' ...\n",
      "\n",
      "1.  Flag:  Korea (South) \n",
      "2.  vessel/type passenger/Ro-Ro Cargo-ship\n",
      "3.  Tragfähigkeit: (deadweight) 3981 tons\n",
      "4.  Year built: 1994\n",
      "5.  Grosstonnage 6586 tons\n",
      "\n",
      "Zu 1.\n",
      "Schiff nicht 'ausflaggt' sprich: weniger Sicherheitsstandards (z.B. flag Panama etc.)\n",
      "\n",
      "Zu 2. Ro-Ro = 'Roll on - Roll off' wie bei Fähren üblich.\n",
      "\n",
      "Zu 3. Diese Tragfähigkeit betrifft die 'Zuladung' - also zahlendes Gut (incl. Passagiere)\n",
      "\n",
      "Zu 4. Ein 20 Jahre altes Schiff kann durchaus den letzten Sicherheitsaspekten entsprechen - wenn Geld investiert wurde.\n",
      "\n",
      "Zu 5. Die GRT (Grosstonnage)...\n",
      "\n",
      "---Comment postbit_14862828 from spon (rating N/A) ---\n",
      "die Tester zu sein, Funktionen zu testen, die 99% der Autofahrer nicht benötigen unter Bedingungen, die ebenfalls 99% der Autofahrer nicht haben.\n",
      "Und dann bleiben die Karren liegen, weil irgend ein elektronisches Teil, das mit hohem Aufwand allerbilligst aus der hintersten Ecke Chinas besorgt wird, kaputt geht, das der Käufer dann zum hundertfachen Preis auswechseln lassen kann. \n",
      "Das nennt man dann Premium - stimmt zumindest beim Preis.\n",
      "Besonders witzig finde ich den Werbespot von Audi, der gerade zu den olympischen Spielen läuft. Da fährt ein - wie ich meine- A5 durch eine schneebedeckte Land...\n",
      "\n",
      "\n",
      "BEST FOR zeit\n",
      "\n",
      "---Comment cid-4520538 from zeit (rating 3) ---\n",
      "\"Ganz subjektive Erlebniswelt\"\n",
      "Angesichts mancher Kommentare hier glaube ich das nicht, dass das meine \"ganz subjektive Erlebniswelt\" ist. Sie müssen meinen Beitrag allerdings im Zusammenhang sehen: Er beruht ursprünglich auf meiner Kritik, dass viele Menschen unter \"Arbeit\" nur \"bezahlte Arbeit\" verstehen und die unendlich vielen Stunden unbezahlter Arbeit schlichtweg übersehen. Und er beruht auf meiner Frage - die bislang noch nicht beantwortet wurde -, warum es denn, wenn angeblich Geld die einzige Motivation für \"Arbeit\" ist, dennoch so viele gibt, die unbezahlte Arbeit leisten?\n",
      "Ich hatte ...\n",
      "\n",
      "---Comment cid-5776689 from zeit (rating 3) ---\n",
      "Typischer Assheuer. Statt nüchtern die Tatsachen zu beschreiben, wird der ganze Artikel um einen Schwafel-Begriff wie \"Gnosis\" herumgewurstelt und mit kulturhistorischen Anekdoten über Heidegger und Adorno gefüllt. Das alles bleibt ungeheuer vage, leistet nicht den geringsten Beitrag zum Verständnis der Welt, und erinnert unvorteilhaft an das \"philosophische Quartett\", das auf gleiche Weise funktioniert hat. Aber offenbar gibt es Menschen, denen diese geistige Luftblasen-Produktion etwas gibt.\n",
      "Ob die Weltuntergangsstimmung heute wirklich stärker ist als in anderen Epochen, oder ob es dem Autor...\n",
      "\n",
      "---Comment cid-5082365 from zeit (rating 4) ---\n",
      "Schlüsselkompetenz Logik\n",
      "Ich möchte jetzt nicht behauptet dass man mit Logik die ganze Welt erklären kann, denn dies wäre falsch, aber eine intensivere Auseinandersetzung mit Logik in der Gesellschaft, speziell in der Schulzeit, täte glaube ich wirklich gut.\n",
      "Anders als die subjektive Glaubhaftigkeit der angesprochenen Verschwörungstheorien ist Logik etwas relativ objektiv Nachvollziehbares. Wichtig ist besonders neben dem Erkennen von Informationen und der logischen Verknüpfung auch die fehlende Information zu erfassen. Leider wird diesem Informationsdefizit zu oft nicht genug Aufmerksamkeit z...\n",
      "\n",
      "---Comment cid-4735762 from zeit (rating 0) ---\n",
      "Naturwissenschaften wissen nicht, \"wie Welt funktioniert\"\n",
      "@56 Und das wollen sie auch gar nicht wissen, genau genommen, sondern sie wollen nur wissen, wie der Teil der \"Welt\", der, wie Sie es ausdrücken, wiederholbar, vorhersagbar und kontrollierbar ist, \"funktioniert\". Nicht mehr und nicht weniger. Dabei würde ich \"vorhersehbar\" durch \"mit einer quantifizierbaren Wahrscheinlichkeit vorhersehbar\" ersetzen und \"kontrollierbar\" streichen. Das Kontrollieren ist nicht Aufgabe der Naturwissenschaftler, sondern der Techniker. Die Grenzen ihrer \"Erkenntnismöglichkeiten\" sind den Naturwissenschaftlern...\n",
      "\n",
      "---Comment postbit_36896350 from spon (rating N/A) ---\n",
      "Ein geschlechtsbetonter \"Ismus\" kann eigentlich nur ein auf die feminine oder maskuline Hälfte reduzierter Humanismus sein, denn er betont eine Seite und formuliert damit, gemessen an einer humanistischen Sicht, so etwas wie eine sektiererische Abspaltung einer spezifischen Hälfte von der anderen im Humanismus gleichermaßen vertretenen Hälfte. Der Begriff \"Feminismus\" forciert damit eine dem Humanismus fremde differenzierende und geradezu separatistische Ideologie, die bei strenger Anwendung auf eine Art von Apartheid zwischen femininem und maskulinem Beitrag zu einem humanistischen  Weltbild ...\n",
      "\n",
      "---Comment cid-4753139 from zeit (rating 2) ---\n",
      "@Dopterianer\n",
      "Nach Lesen ihrer Kommentare bin ich der Auffassung ihnen würde ein wenig Geisteswissenschaft nicht schaden, denn da lernt man schlüssiges Argumentieren.\n",
      "Ich bin auch ein großer Freund der Logik, deswegen stelle ich mal die Frage in den Raum:\n",
      "Wie logisch ist es Errungenschaften durch MINT-Fächer für die Menschheit zu entwickeln ohne etwas über eben jene Menschen zu wissen?\n",
      "\n",
      "---Comment cid-5089255 from zeit (rating 1) ---\n",
      "ganz viel weggelassen\n",
      "...irgendwie haben Sie da jetzt wieder die ganzen anderen Daten (Genetik, Anatomie, Embryologie,...) und Experimente mit den dutzenden Modellorganismen und die Fossilfunde weggelassen...und nur das gelesen, was Sie lesen wollten.\n",
      "\"Mit der gleichen Logik könnte man allerdings auch einen göttlichen Ursprung der Arten \"nachweisen\". Und darüber gleichzeitig noch Gott mit beweisen.\"\n",
      "glaub-ich-nicht. Da passen die ganzen anderen Daten...und Experimente...und die Fossilfunde irgendwie nicht dazu. Vor allem die genetischen Experimente zeigen, dass es ganz ohne Gott geht.\n",
      "\"Vermehr...\n",
      "\n",
      "---Comment cid-5712301 from zeit (rating 0) ---\n",
      "In einem Sinne von mangeldner Debatierlust, fehlender Kritikkunst und einer kollektiven Unfähigkeit sich gemeinsam an Texte, mitunter durch Fragestellungen usw. an Gedanken/Texte/Positionen etc. anzunähern (Ich spreche als Studentin der Philosophie) die unter Studierenden hauptsächlich und gegenwärtig passiert, darin muss ich der Autorin beistimmen. Der Kanon: Wie bekomme ich, mit welchen Bedingungen welches Pünktchen, also: was muss ich tun (diktier mich bitte!) um einen Schein zu erhalten ist an Unis Alltag.\n",
      "Aber! Das Beitragen von Professoren_innen und, z.b. ihren wirklich mehr als lachhaft...\n",
      "\n",
      "---Comment cid-4804366 from zeit (rating 0) ---\n",
      "Re: Einfach armselig 3\n",
      "rpor_d #94> Die Idee mit der Kruemmung kam von Einstein, Grossmann zeigte ihm den moeglichen Formalismus\n",
      "Das listet jetzt nur die ganz offensichtlichen Gegen-Nachweise auf, nicht die komplexeren Zitate oder z.B. die Fälle, in denen Sie auf Nachfrage nach Belegen nie antworteten, etwa\n",
      "rpor_d #95> [Hilberts erfolgreicher Ansatz] wird entweder als grosse Hausaufgabe gegeben […] oder es wird in Vorlesungen im Hauptstudium vom Professor nachvollzogen.\n",
      "Letzten Endes bleibt kaum eine andere Interpretation, als dass Sie ein ganz grundsätzliches Problem mit der Ehrlichkeit haben.\n",
      "\n",
      "---Comment cid-4546414 from zeit (rating 2) ---\n",
      "Die Entscheider...\n",
      "..sprechen schon weiterhin Englisch und wohl kaum Code.\n",
      "Der Gedanke, sich mit den Mechanismen hinter den Apps und Websites zu befassen ist löblich, doch nicht umsonst gibt es dafür zum Teil Studiengänge und Ausbildungen.\n",
      "Ein guter Programmierer (durchaus auch im Kontrast zu einem guten Entwickler/Informatiker) hat insofern neben großer Erfahrung auch Grundlagenwissen.\n",
      "Die Annahme, dass es bei Swift daher \"nicht schon Generationen von Programmierern gibt, die besser sind als ich\" ist insofern nicht wahr. Denn die Programmiersprache wechselt ein guter Entwickler im Nu. Sich da...\n",
      "\n",
      "\n",
      "BEST FOR focus\n",
      "\n",
      "---Comment fc2384515747806803659 from focus (rating N/A) ---\n",
      "nur wollen dies weder unsere unfähigen Politiker noch die Islamverbände hören. Dazu kommt noch, dass unsere Justiz völlig versagt und diese Leute mit Samthandschuhen anfässt. Was sich in unserem Land abspielt, ist langsam nicht mehr zu fassen. Diese frauenverachtenden Muslime verstehen nur eine harte Hand und gehören sofort ausgewiesen, sofern sie sich als Asylanten hier aufhalten. Es ist eine Unverfrorenheit der Politik vom Bürger noch zu verlangen, dass er diese kriminellen Menschen durch Steuergelder unterhalten muss. Was Frau Merkel uns mit ihrer Politik der offenen Grenzen eingebrockt hat...\n",
      "\n",
      "---Comment fc-1488586985286617515 from focus (rating N/A) ---\n",
      "das wir derzeit von solch einer Politik geführt werden. Alle dafür verantwortlichen gehören hinter Schloss und Riegel. Merkel,Gabriel, Schulz und Co. sind eine Schande und nicht die Polizisten und deren Vorgesetzten die immer den Kopf hinhalten müssen und gezwungen werden zu lügen.Ich mag die AFD nicht als politische Macht für Deutschland, aber sie hatten recht mit der Lügenpresse und Merkel ! Wenn diese Politiker nicht eingesperrt werden, dann wird Deutschland wirklich bald rechts. Lieber Herr Seehofer , lieber Herr Schäble bitte rufen Sie das Notstandsgesetz aus und entfernen Sie Merkel endl...\n",
      "\n",
      "---Comment fc6092971155995554073 from focus (rating N/A) ---\n",
      "Politiker mit Weitblick.Nur schade dass Herr Geissler in Politrente ist und dies seine Privatmeinung ist.Er war schon früher ein Mann der klaren Worte,kein Wendehals wie es heute ueblich ist.Seine offenen Worte im Wulff Skandal haben mir schon damals imponiert, von der eigenen Partei wurde er gerügt. Diese Nachkriegsgeneration Politiker erarbeiteten sich Respekt in der Bevölkerung, von dem die heutigen Politiker nur träumen können.\n",
      "\n",
      "---Comment fc-6144842118117141000 from focus (rating N/A) ---\n",
      "Durch die seit Jahren gezielt Zugewanderten aus islamischen Ländern, haben wir nun die Quittung: Wir sind nicht mehr die Herren im eigenen Land!  Die alles andere als friedvoll zu bewertende Religion des Islams und der gewaltbereiten Islamisten zeigen uns nun, wie wir Deutsche uns zu verhalten haben. Proteste in der Öffentlichkeit gegen die Islamisierung müssen ausfallen, weil islamistische Killer unterwegs sind!  Macht nur so weiter liebe Politiker, in dieser unserer Republik und  verschafft allen Islamisten in Deutschland die deutsche Staatsangehörigkeit! Wir Urdeutsche können dann nur noch ...\n",
      "\n",
      "---Comment fc4779063311921099534 from focus (rating N/A) ---\n",
      "diese Frau sollte mal Nachts alleine durch die Straßen gehen oder S und U-Bahn fahren. Um zu erleben was die armen Flüchtlinge von uns halten. Frau Bause und unsere Politiker sollten endlich mit der naiven \"WIR SCHAFFEN DAS\" Politik aufhören! statt gegen Angst und Unmut unseres Volkes zu hetzen, es beschützen, denn dafür wurden sie gewählt. Angst und eure Politik treibt Menschen auf die Straße, mit Recht! Es sind Menschen die arbeiten, sogar Steuern zahlen wollen, ihr beschimft uns als Pack, als braune Nazis und veruntreut unsere Steuergelder. Macht endlich Politik für euer Volk, ihr treibt di...\n",
      "\n",
      "---Comment fc-7020430312312956685 from focus (rating N/A) ---\n",
      "Mist und dabei kann ich diese Dummköpfe alles, nur nicht leiden. Wie konnte ich nur darauf reinfallen? Der Lucke ist ja auch Nichtraucher, und so dünn. Wenn man dem ein Bärtchen unter die Nase malt, dann sieht er aus wie der GröFaz. Witz komm raus, Du bist umzingelt. Das Schlimme ist, dass jeder in Deutschland der CDU oder SPD gefährdet entweder Kommunist oder Nazi ist. Ich sehe es so, dass der Lucke da Nägel mit Köpfen macht wo konservative wie Gauweiler Blendgranaten werfen, denn Gauweiler sagt das Selbe. Die CDU/CSU sollte erstmal diese Sorte Nazis aus ihren Reihen entfernen. Wir wollen Tat...\n",
      "\n",
      "---Comment postbit_27606958 from spon (rating N/A) ---\n",
      "Das die Vorratsdatenspeicherung durch die Hintertür\n",
      "wieder eingeführt werden soll ist der Verdienst \n",
      "von seit Jahren politischen Verlierern.\n",
      "Der eine hangelt sich vom Kanzleramtsminister zum Innenminister, dann versagt er als Verteidigungsminister,\n",
      "um dann wieder Innenminister zu werden!\n",
      "Braucht unser Land einen solchen Mann?\n",
      "Der andere 3maliger Verlierer von Landtagswahlen \n",
      "in einem Bundesland das schon seit Jahrzehnten bankrott ist! Ein Provinzanwalt aus Saarlouis der\n",
      "nur an Versorgung interessiert ist!\n",
      "Was von diesen beiden Herren die für die Verfassung\n",
      "zuständig sind in Zukunft zu erwarten...\n",
      "\n",
      "---Comment fc2537256418333258209 from focus (rating N/A) ---\n",
      "Das es nach 70 Jahren wieder progromähnliche Zustände in diesem Land gibt geht auf das Konto der rot-grünen Gutmenschen und multikulti Träumer. Der umgehemmte Zuzug arabisch-moslemischstämmoger MIgranten zeigt nun die unfassbaren Folgen. Wer die Hand an die Grundwerte der deutschen Rechtsstaates legt und zur Volksverhetzung aufruft hat heir nichts mehr verlorenund sollte sofort ausgewiesen werden. Stattdessen stecken die Politiker Merkel, Gabriel und Gauck den Kopf in den Sand und schwafeln davon, dass der Islam zu Deutschland gehört.\n",
      "\n",
      "---Comment fc-6907199175778523397 from focus (rating N/A) ---\n",
      "Ramelow meint, wir brauchen jede fleißige Hand und schlaue Köpfe, einverstanden, aber wo sind diese? Outlaws und gescheiterte Existenzen kommen nach Deutschland, jeder erkennt das, auch sprechen die Anerkennungsquoten eine deutliche Sprache. Seehofer hat Recht und an den Reaktionen sieht man, dass die linken Parteien in Deutschland nie und nimmer daran denken, diesen Missbrauch zu stoppen und den Steuerzahler zu schützen, genau das finde ich ekelhaft. Meinungsfreiheit gibt es in diesem Land nicht mehr, nur noch links und rechts. Eines ist sicher, es wird rauer in diesem Land, auch wir werden e...\n",
      "\n",
      "---Comment fc-924506867720597566 from focus (rating N/A) ---\n",
      "beginnt mit dem 1. Lebenstag. Es ist erstaunlich, wie sich die Kirchenmänner/frauen wieder mal schuldig machen mit dem Verrat am eigenen Volk. Das hatten wir schon zu Zeiten des Gröfaz, zu DDR-Zeiten und nun reihen sie sich wieder ein in die Reihen der Volksverdummer. Ihr alle, ich meine Euch Foristen, macht das Video auf YT \"Unsere Zukunft? Ja, wenn das Volk nicht bald aufwacht!\" bekannt, damit auch die, die immer noch nicht auf dem Boden der Realität angekommen sind, begreifen, was unserem Land, uns und unseren Kindern und Kindeskindern blüht, wenn der Islamisierung D und Europas nicht ein E...\n"
     ]
    }
   ],
   "source": [
    "# let's print the prototypes\n",
    "for class_, theids in best_com_ids.items():\n",
    "    print('\\n\\nBEST FOR %s' % class_)\n",
    "    print_com_ids(theids, comments, maxletter=600)"
   ]
  }
 ],
 "metadata": {
  "anaconda-cloud": {},
  "kernelspec": {
   "display_name": "Python [default]",
   "language": "python",
   "name": "python3"
  },
  "language_info": {
   "codemirror_mode": {
    "name": "ipython",
    "version": 3
   },
   "file_extension": ".py",
   "mimetype": "text/x-python",
   "name": "python",
   "nbconvert_exporter": "python",
   "pygments_lexer": "ipython3",
   "version": "3.5.2"
  }
 },
 "nbformat": 4,
 "nbformat_minor": 1
}
